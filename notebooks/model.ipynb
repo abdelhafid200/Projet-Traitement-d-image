{
 "cells": [
  {
   "cell_type": "code",
   "execution_count": 1,
   "metadata": {},
   "outputs": [],
   "source": [
    "import os\n",
    "import cv2\n",
    "import pandas as pd\n",
    "import numpy as np\n",
    "from skimage.feature import hog\n",
    "from sklearn.decomposition import PCA\n",
    "from sklearn.svm import SVC\n",
    "from sklearn.preprocessing import StandardScaler"
   ]
  },
  {
   "cell_type": "code",
   "execution_count": 2,
   "metadata": {},
   "outputs": [
    {
     "name": "stdout",
     "output_type": "stream",
     "text": [
      "done 1\n",
      "done 2\n",
      "done 3\n",
      "done 4\n",
      "done 5\n",
      "Dimensions des caractéristiques HOG réduites et normalisées pour l'ensemble d'entraînement : (1821, 883)\n",
      "Dimensions des caractéristiques HOG réduites et normalisées pour l'ensemble de test : (1821, 883)\n"
     ]
    }
   ],
   "source": [
    "# Chemins d'accès aux dossiers d'images\n",
    "train_folder = './datasetTraiter/TrainData/'\n",
    "test_folder = './datasetTraiter/test/'\n",
    "\n",
    "# Fonction pour extraire les caractéristiques HOG d'une image redimensionnée\n",
    "def extract_hog_features_resized(image, target_size=(128, 128)):\n",
    "    # Redimensionner l'image à la taille cible\n",
    "    resized_image = cv2.resize(image, target_size)\n",
    "    \n",
    "    # Convertir l'image redimensionnée en niveaux de gris si elle a plus de deux dimensions\n",
    "    if len(resized_image.shape) > 2:\n",
    "        resized_image = cv2.cvtColor(resized_image, cv2.COLOR_BGR2GRAY)\n",
    "    \n",
    "    # Extraire les caractéristiques HOG de l'image redimensionnée\n",
    "    features = hog(resized_image, orientations=9, pixels_per_cell=(8, 8),\n",
    "                cells_per_block=(2, 2), visualize=False,\n",
    "                transform_sqrt=True, block_norm='L2-Hys')\n",
    "    return features\n",
    "\n",
    "\n",
    "# Fonction pour charger les noms de fichiers à partir des fichiers Excel\n",
    "def load_image_names(excel_file):\n",
    "    return pd.read_excel(excel_file)['image_name'].tolist()\n",
    "\n",
    "# Charger les noms des images saines et malades\n",
    "healthy_images = load_image_names('./datasetTraiter/healthy_images.xlsx')\n",
    "maladie_images = load_image_names('./datasetTraiter/maladie_images.xlsx')\n",
    "\n",
    "# Charger les noms des images de test\n",
    "test_images = load_image_names('./datasetTraiter/test_images.xlsx')\n",
    "\n",
    "# Extraire les caractéristiques HOG pour les images d'entraînement\n",
    "# Utilisation de la nouvelle fonction pour extraire les caractéristiques HOG des images d'entraînement\n",
    "hog_features_train = []\n",
    "train_labels = []\n",
    "for image_name in healthy_images:\n",
    "    image_path = os.path.join(train_folder, 'healthy', image_name)\n",
    "    image = cv2.imread(image_path)\n",
    "    if image is not None:\n",
    "        hog_features = extract_hog_features_resized(image)\n",
    "        hog_features_train.append(hog_features)\n",
    "        train_labels.append(0)  # 0 pour healthy\n",
    "\n",
    "print('done 1')\n",
    "\n",
    "\n",
    "for image_name in maladie_images:\n",
    "    image_path = os.path.join(train_folder, 'maladie', image_name)\n",
    "    image = cv2.imread(image_path)\n",
    "    if image is not None:\n",
    "        hog_features = extract_hog_features_resized(image)\n",
    "        hog_features_train.append(hog_features)\n",
    "        train_labels.append(1)  # 1 pour maladie\n",
    "\n",
    "print('done 2')\n",
    "\n",
    "\n",
    "# Convertir les listes en tableaux numpy\n",
    "X_train = np.array(hog_features_train)\n",
    "y_train = np.array(train_labels)\n",
    "\n",
    "\n",
    "# Utilisation de la nouvelle fonction pour extraire les caractéristiques HOG des images de test\n",
    "hog_features_test = []\n",
    "for image_name in test_images:\n",
    "    image_path = os.path.join(test_folder, image_name)\n",
    "    image = cv2.imread(image_path)\n",
    "    if image is not None:\n",
    "        hog_features = extract_hog_features_resized(image)\n",
    "        hog_features_test.append(hog_features)\n",
    "\n",
    "\n",
    "\n",
    "# Convertir la liste en tableau numpy\n",
    "X_train = np.array(hog_features_train)\n",
    "y_train = np.array(train_labels)\n",
    "X_test = np.array(hog_features_test)\n",
    "\n",
    "# Application de PCA sur les caractéristiques d'entraînement et de test\n",
    "pca = PCA(n_components=0.90)\n",
    "pca.fit(X_train)  # Fit seulement sur les données d'entraînement\n",
    "\n",
    "print('done 3')\n",
    "\n",
    "X_train_reduced = pca.transform(X_train)\n",
    "X_test_reduced = pca.transform(X_test)\n",
    "\n",
    "print('done 4')\n",
    "\n",
    "# Normalisation des caractéristiques HOG\n",
    "scaler = StandardScaler()\n",
    "X_train_scaled = scaler.fit_transform(X_train_reduced)\n",
    "X_test_scaled = scaler.transform(X_test_reduced)\n",
    "\n",
    "print('done 5')\n",
    "\n",
    "# Affichage des dimensions après PCA et normalisation\n",
    "print(\"Dimensions des caractéristiques HOG réduites et normalisées pour l'ensemble d'entraînement :\", X_train_scaled.shape)\n",
    "print(\"Dimensions des caractéristiques HOG réduites et normalisées pour l'ensemble de test :\", X_test_scaled.shape)\n"
   ]
  },
  {
   "cell_type": "code",
   "execution_count": 3,
   "metadata": {},
   "outputs": [
    {
     "name": "stdout",
     "output_type": "stream",
     "text": [
      "Mean Accuracy (Cross-Validation): 0.7287279843444228\n"
     ]
    }
   ],
   "source": [
    "from sklearn.model_selection import cross_val_score\n",
    "\n",
    "# Définir le modèle SVM\n",
    "svm_model = SVC(kernel='rbf', C=9.74, gamma='scale')\n",
    "\n",
    "# Calculer la précision du modèle en utilisant la validation croisée\n",
    "# 'cv' détermine le nombre de plis dans la validation croisée\n",
    "# 'scoring' spécifie la métrique d'évaluation (dans ce cas, nous utilisons 'accuracy')\n",
    "# La fonction cross_val_score renvoie un tableau de scores pour chaque pli de validation croisée\n",
    "scores = cross_val_score(svm_model, X_train_scaled, y_train, cv=5, scoring='accuracy')\n",
    "# Initialiser le modèle SVM\n",
    "\n",
    "# Entraîner le modèle SVM\n",
    "svm_model.fit(X_train_scaled, y_train)\n",
    "\n",
    "# Calculer la moyenne des scores de validation croisée pour obtenir une estimation de la performance du modèle\n",
    "mean_accuracy = scores.mean()\n",
    "\n",
    "print(\"Mean Accuracy (Cross-Validation):\", mean_accuracy)\n"
   ]
  },
  {
   "cell_type": "code",
   "execution_count": 9,
   "metadata": {},
   "outputs": [
    {
     "name": "stdout",
     "output_type": "stream",
     "text": [
      "\n",
      "La feuille n'est pas malade.\n"
     ]
    }
   ],
   "source": [
    "from PIL import Image\n",
    "\n",
    "# Chemin local de l'image à prédire\n",
    "# image_path = \"../foliar_diseases_apple_trees_project/dataset/datasetTraiter/TrainData/healthy/Train_151.jpg\"\n",
    "image_path = \"./datasetTraiter/TrainData/healthy/Train_2.jpg\"\n",
    "\n",
    "\n",
    "# Charger l'image à partir du chemin local\n",
    "image = Image.open(image_path)\n",
    "\n",
    "# Redimensionner l'image si nécessaire et extraire les caractéristiques HOG\n",
    "image_resized = image.resize((64, 64))  # Redimensionner l'image à la taille attendue par le modèle\n",
    "hog_features = extract_hog_features_resized(np.array(image_resized))  # Extraire les caractéristiques HOG de l'image redimensionnée\n",
    "\n",
    "# Normaliser les caractéristiques HOG\n",
    "hog_features_scaled = scaler.transform(pca.transform([hog_features]))\n",
    "\n",
    "# Faire une prédiction avec le modèle SVM\n",
    "prediction = svm_model.predict(hog_features_scaled)\n",
    "\n",
    "print(\"\")\n",
    "# Afficher la prédiction\n",
    "if prediction == 0:\n",
    "    print(\"La feuille n'est pas malade.\")\n",
    "else:\n",
    "    print(\"La feuille est malade.\")"
   ]
  },
  {
   "cell_type": "code",
   "execution_count": 10,
   "metadata": {},
   "outputs": [
    {
     "name": "stdout",
     "output_type": "stream",
     "text": [
      "\n",
      "La feuille est malade.\n"
     ]
    }
   ],
   "source": [
    "from PIL import Image\n",
    "\n",
    "# Chemin local de l'image à prédire\n",
    "# image_path = \"../foliar_diseases_apple_trees_project/dataset/datasetTraiter/TrainData/healthy/Train_151.jpg\"\n",
    "image_path = \"./datasetTraiter/TrainData/maladie/Train_3.jpg\"\n",
    "\n",
    "\n",
    "# Charger l'image à partir du chemin local\n",
    "image = Image.open(image_path)\n",
    "\n",
    "# Redimensionner l'image si nécessaire et extraire les caractéristiques HOG\n",
    "image_resized = image.resize((64, 64))  # Redimensionner l'image à la taille attendue par le modèle\n",
    "hog_features = extract_hog_features_resized(np.array(image_resized))  # Extraire les caractéristiques HOG de l'image redimensionnée\n",
    "\n",
    "# Normaliser les caractéristiques HOG\n",
    "hog_features_scaled = scaler.transform(pca.transform([hog_features]))\n",
    "\n",
    "# Faire une prédiction avec le modèle SVM\n",
    "prediction = svm_model.predict(hog_features_scaled)\n",
    "\n",
    "print(\"\")\n",
    "# Afficher la prédiction\n",
    "if prediction == 0:\n",
    "    print(\"La feuille n'est pas malade.\")\n",
    "else:\n",
    "    print(\"La feuille est malade.\")"
   ]
  },
  {
   "cell_type": "code",
   "execution_count": 6,
   "metadata": {},
   "outputs": [],
   "source": [
    "import joblib\n",
    "\n",
    "# Serialize the trained model\n",
    "# joblib.dump(svm_model, 'svm_model.pkl')\n",
    "# joblib.dump(scaler, 'scaler_model.pkl')\n",
    "# joblib.dump(pca, 'pca_model.pkl')"
   ]
  }
 ],
 "metadata": {
  "kernelspec": {
   "display_name": "Python 3",
   "language": "python",
   "name": "python3"
  },
  "language_info": {
   "codemirror_mode": {
    "name": "ipython",
    "version": 3
   },
   "file_extension": ".py",
   "mimetype": "text/x-python",
   "name": "python",
   "nbconvert_exporter": "python",
   "pygments_lexer": "ipython3",
   "version": "3.11.4"
  }
 },
 "nbformat": 4,
 "nbformat_minor": 2
}
